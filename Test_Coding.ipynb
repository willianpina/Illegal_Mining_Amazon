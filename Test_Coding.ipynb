{
 "cells": [
  {
   "cell_type": "markdown",
   "id": "991f690a9e02a478",
   "metadata": {},
   "source": [
    "## Text Coding for players"
   ]
  },
  {
   "cell_type": "code",
   "id": "initial_id",
   "metadata": {
    "ExecuteTime": {
     "end_time": "2025-04-18T21:45:44.772424Z",
     "start_time": "2025-04-18T21:45:41.590538Z"
    }
   },
   "source": [
    "import ee\n",
    "import geemap\n",
    "\n",
    "ee.Initialize()\n",
    "\n",
    "# Define uma área retangular na bacia do rio Uraricoera\n",
    "aoi = ee.Geometry.Rectangle([-63.30,3.65,-63.26, 3.62])  # Ajuste conforme necessário\n",
    "\n",
    "# Sentinel-2: coleção com imagens de boa resolução (10m)\n",
    "sentinel = ee.ImageCollection(\"COPERNICUS/S2_SR_HARMONIZED\") \\\n",
    "    .filterBounds(aoi) \\\n",
    "    .filterDate('2024-01-01', '2025-04-18') \\\n",
    "    .filter(ee.Filter.lt('CLOUDY_PIXEL_PERCENTAGE', 10)) \\\n",
    "    .median() \\\n",
    "    .clip(aoi)\n",
    "\n",
    "Map = geemap.Map(center=[3.637, -63.28], zoom=16)  # Centraliza no Uraricoera\n",
    "Map.addLayer(sentinel, {\n",
    "    'bands': ['B4', 'B3', 'B2'],\n",
    "    'min': 0,\n",
    "    'max': 3000\n",
    "}, 'Sentinel-2 Uraricoera')\n",
    "Map"
   ],
   "outputs": [
    {
     "data": {
      "text/plain": [
       "<IPython.core.display.HTML object>"
      ],
      "text/html": [
       "\n",
       "            <style>\n",
       "                .geemap-dark {\n",
       "                    --jp-widgets-color: white;\n",
       "                    --jp-widgets-label-color: white;\n",
       "                    --jp-ui-font-color1: white;\n",
       "                    --jp-layout-color2: #454545;\n",
       "                    background-color: #383838;\n",
       "                }\n",
       "\n",
       "                .geemap-dark .jupyter-button {\n",
       "                    --jp-layout-color3: #383838;\n",
       "                }\n",
       "\n",
       "                .geemap-colab {\n",
       "                    background-color: var(--colab-primary-surface-color, white);\n",
       "                }\n",
       "\n",
       "                .geemap-colab .jupyter-button {\n",
       "                    --jp-layout-color3: var(--colab-primary-surface-color, white);\n",
       "                }\n",
       "            </style>\n",
       "            "
      ]
     },
     "metadata": {},
     "output_type": "display_data"
    },
    {
     "data": {
      "text/plain": [
       "Map(center=[3.637, -63.28], controls=(WidgetControl(options=['position', 'transparent_bg'], widget=SearchDataG…"
      ],
      "application/vnd.jupyter.widget-view+json": {
       "version_major": 2,
       "version_minor": 0,
       "model_id": "049f8450d8c24786bebc19623c8492b4"
      }
     },
     "execution_count": 44,
     "metadata": {},
     "output_type": "execute_result"
    }
   ],
   "execution_count": 44
  },
  {
   "cell_type": "code",
   "execution_count": null,
   "id": "47a64906-8732-47b9-a704-06effcc00699",
   "metadata": {},
   "outputs": [],
   "source": []
  }
 ],
 "metadata": {
  "kernelspec": {
   "display_name": "Python 3 (ipykernel)",
   "language": "python",
   "name": "python3"
  },
  "language_info": {
   "codemirror_mode": {
    "name": "ipython",
    "version": 3
   },
   "file_extension": ".py",
   "mimetype": "text/x-python",
   "name": "python",
   "nbconvert_exporter": "python",
   "pygments_lexer": "ipython3",
   "version": "3.13.2"
  }
 },
 "nbformat": 4,
 "nbformat_minor": 5
}
