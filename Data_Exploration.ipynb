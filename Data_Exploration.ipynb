{
 "cells": [
  {
   "metadata": {},
   "cell_type": "markdown",
   "source": "# Análise de Dados de Mineração Ilegal na Amazônia",
   "id": "748d3099a6e46a3e"
  },
  {
   "metadata": {
    "ExecuteTime": {
     "end_time": "2025-04-18T20:05:52.482999Z",
     "start_time": "2025-04-18T20:05:51.034258Z"
    }
   },
   "cell_type": "code",
   "source": [
    "# Utilizando uma Base de Dados do RAISG\n",
    "from owslib.wms import WebMapService\n",
    "\n",
    "# URL base (sem o request específico)\n",
    "url = \"https://geo.socioambiental.org/webadaptor2/services/PilotoGarimpo/garimpo_ilegal/MapServer/WMSServer\"\n",
    "\n",
    "# Conectando ao serviço WMS\n",
    "wms = WebMapService(url, version='1.3.0')\n",
    "\n",
    "# Explorando os Layers\n",
    "for layer_id, layer in wms.contents.items():\n",
    "    print(f\"{layer_id}: {layer.title}\")"
   ],
   "id": "47410527b68ec1f2",
   "outputs": [
    {
     "name": "stdout",
     "output_type": "stream",
     "text": [
      "2: Bosque Protectores (Ecuador)\n",
      "3: ANP departamental\n",
      "4: ANP Nacional\n",
      "5: TI afectada\n",
      "6: Minería: concesiones legales\n",
      "8: áreas de ocurrencia\n",
      "9: balsas\n",
      "10: Localización puntual\n",
      "11: Amazonía\n",
      "13: Municipal\n",
      "14: Departamental\n",
      "15: vias\n",
      "17: ciudad principal\n",
      "18: capital de Departamento/Estado\n",
      "19: capital de país\n"
     ]
    }
   ],
   "execution_count": 1
  },
  {
   "metadata": {
    "ExecuteTime": {
     "end_time": "2025-04-18T20:09:33.631634Z",
     "start_time": "2025-04-18T20:08:53.741416Z"
    }
   },
   "cell_type": "code",
   "source": [
    "import geemap\n",
    "\n",
    "# Criar mapa centralizado na Amazônia\n",
    "Map = geemap.Map(center=[-4, -62], zoom=5)\n",
    "\n",
    "Map.add_basemap('HYBRID')  # Imagem de satélite do Google com rótulos\n",
    "Map.add_basemap('Esri.WorldImagery')  # Outro visual bonito\n",
    "\n",
    "# Adicionar camada de áreas de ocorrência (layer 8)\n",
    "Map.add_wms_layer(\n",
    "    url=\"https://geo.socioambiental.org/webadaptor2/services/PilotoGarimpo/garimpo_ilegal/MapServer/WMSServer\",\n",
    "    layers=\"8\",\n",
    "    name=\"Áreas de Ocorrência\",\n",
    "    format=\"image/png\",\n",
    "    transparent=True\n",
    ")\n",
    "\n",
    "# Exibir o mapa\n",
    "Map\n"
   ],
   "id": "2dec568730ba1e06",
   "outputs": [
    {
     "data": {
      "text/plain": [
       "<IPython.core.display.HTML object>"
      ],
      "text/html": [
       "<p>To authorize access needed by Earth Engine, open the following\n",
       "        URL in a web browser and follow the instructions:</p>\n",
       "        <p><a href=https://code.earthengine.google.com/client-auth?scopes=https%3A//www.googleapis.com/auth/earthengine%20https%3A//www.googleapis.com/auth/cloud-platform%20https%3A//www.googleapis.com/auth/devstorage.full_control&request_id=-s3SPpEAY3dM9By7Ct-69FbzoOuepsttXAIwt4ouU4k&tc=aHSO1y1QoAT-_C_x_dOAj8gMyta7QLMHadQoKJtYzyE&cc=uvZU0CY2jejXi5xEYgkCUomoDhIkMZwyLrjXbWPlhzM>https://code.earthengine.google.com/client-auth?scopes=https%3A//www.googleapis.com/auth/earthengine%20https%3A//www.googleapis.com/auth/cloud-platform%20https%3A//www.googleapis.com/auth/devstorage.full_control&request_id=-s3SPpEAY3dM9By7Ct-69FbzoOuepsttXAIwt4ouU4k&tc=aHSO1y1QoAT-_C_x_dOAj8gMyta7QLMHadQoKJtYzyE&cc=uvZU0CY2jejXi5xEYgkCUomoDhIkMZwyLrjXbWPlhzM</a></p>\n",
       "        <p>The authorization workflow will generate a code, which you should paste in the box below.</p>\n",
       "        "
      ]
     },
     "metadata": {},
     "output_type": "display_data"
    },
    {
     "name": "stdout",
     "output_type": "stream",
     "text": [
      "\n",
      "Successfully saved authorization token.\n"
     ]
    },
    {
     "data": {
      "text/plain": [
       "Map(center=[-4, -62], controls=(WidgetControl(options=['position', 'transparent_bg'], widget=SearchDataGUI(chi…"
      ],
      "application/vnd.jupyter.widget-view+json": {
       "version_major": 2,
       "version_minor": 0,
       "model_id": "8bd4d700649a4549a79c4fdf685327ae"
      }
     },
     "execution_count": 2,
     "metadata": {},
     "output_type": "execute_result"
    }
   ],
   "execution_count": 2
  },
  {
   "metadata": {},
   "cell_type": "markdown",
   "source": [
    "---\n",
    "\n",
    "## 🧱 CONSTRUÇÃO DO CONJUNTO DE DADOS\n",
    "\n",
    "Nesta etapa, vamos construir um conjunto de dados georreferenciado contendo amostras de regiões com e sem ocorrência de **mineração ilegal**.\n",
    "\n",
    "### 🎯 Objetivo\n",
    "\n",
    "Extrair imagens de satélite de alta resolução que serão utilizadas como entradas para modelos de classificação. As imagens serão organizadas em duas categorias:\n",
    "\n",
    "- `garimpo`: áreas com ocorrência conhecida de mineração ilegal;\n",
    "- `controle`: áreas sem sinais de mineração, usadas como referência.\n",
    "\n",
    "---\n",
    "\n",
    "### 🛰️ Fonte dos dados\n",
    "\n",
    "Utilizaremos imagens do satélite **Sentinel-2**, da coleção `COPERNICUS/S2_SR_HARMONIZED`, disponível no **Google Earth Engine**. Essa coleção oferece:\n",
    "\n",
    "- Resolução espacial de até **10 metros**;\n",
    "- Cobertura global;\n",
    "- Imagens com bandas multiespectrais;\n",
    "- Atualizações frequentes (a cada 5 dias em média).\n",
    "\n",
    "---\n",
    "\n",
    "### ⚙️ Processo de coleta\n",
    "\n",
    "1. **Selecionamos pontos de amostragem geográficos** com base em shapefiles:\n",
    "   - Polígonos de áreas afetadas (`MineriaIlegal_pol.shp`);\n",
    "   - Pontos pontuais registrados (`MineriaIlegal_pt.shp`);\n",
    "   - Pontos aleatórios fora dessas áreas (classe controle).\n",
    "\n",
    "2. **Para cada ponto:**\n",
    "   - Selecionamos a **imagem mais recente com menor cobertura de nuvens** disponível na coleção Sentinel-2;\n",
    "   - Recortamos um patch (ex: 512m x 512m) centrado no ponto;\n",
    "   - Extraímos as bandas visuais (`B4`, `B3`, `B2`, correspondentes a RGB);\n",
    "   - Salvamos o patch como imagem `.png`.\n",
    "\n",
    "---\n",
    "\n",
    "### 📂 Estrutura do diretório de saída\n",
    "\n",
    "As imagens são salvas automaticamente na seguinte estrutura de diretórios:\n",
    "\n",
    "```\n",
    "dataset/\n",
    "├── garimpo/\n",
    "│   ├── img_0000.png\n",
    "│   ├── img_0001.png\n",
    "│   └── ...\n",
    "├── controle/\n",
    "│   ├── img_0000.png\n",
    "│   ├── img_0001.png\n",
    "│   └── ...\n",
    "```\n",
    "\n",
    "---\n",
    "\n",
    "### ✅ Resultado final\n",
    "\n",
    "Um conjunto de dados visual, padronizado, e pronto para ser utilizado no treinamento de modelos de **classificação supervisionada**, como CNNs no TensorFlow.\n",
    "\n",
    "---"
   ],
   "id": "28cebdc44d8cb70d"
  },
  {
   "metadata": {
    "ExecuteTime": {
     "end_time": "2025-04-18T20:14:22.845682Z",
     "start_time": "2025-04-18T20:12:42.065485Z"
    }
   },
   "cell_type": "code",
   "source": [
    "from utils.sample_collector import generate_samples_and_download_images\n",
    "\n",
    "samples = generate_samples_and_download_images(\n",
    "    shp_pol_path=\"MineriaIlegal_2022/MineriaIlegal_pol.shp\",\n",
    "    shp_pt_path=\"MineriaIlegal_2022/MineriaIlegal_pt.shp\",\n",
    "    n_samples_mining=10,\n",
    "    n_samples_control=10,\n",
    "    dataset_dir=\"dataset\"\n",
    ")"
   ],
   "id": "f54bb8b5d55444a",
   "outputs": [
    {
     "data": {
      "text/plain": [
       "<IPython.core.display.HTML object>"
      ],
      "text/html": [
       "\n",
       "            <style>\n",
       "                .geemap-dark {\n",
       "                    --jp-widgets-color: white;\n",
       "                    --jp-widgets-label-color: white;\n",
       "                    --jp-ui-font-color1: white;\n",
       "                    --jp-layout-color2: #454545;\n",
       "                    background-color: #383838;\n",
       "                }\n",
       "\n",
       "                .geemap-dark .jupyter-button {\n",
       "                    --jp-layout-color3: #383838;\n",
       "                }\n",
       "\n",
       "                .geemap-colab {\n",
       "                    background-color: var(--colab-primary-surface-color, white);\n",
       "                }\n",
       "\n",
       "                .geemap-colab .jupyter-button {\n",
       "                    --jp-layout-color3: var(--colab-primary-surface-color, white);\n",
       "                }\n",
       "            </style>\n",
       "            "
      ]
     },
     "metadata": {},
     "output_type": "display_data"
    },
    {
     "name": "stdout",
     "output_type": "stream",
     "text": [
      "Saving to: dataset\\mining\\img_0000.png\n"
     ]
    },
    {
     "data": {
      "text/plain": [
       "img_0000.png: |          | 0.00/16.5k (raw) [  0.0%] in 00:00 (eta:     ?)"
      ],
      "application/vnd.jupyter.widget-view+json": {
       "version_major": 2,
       "version_minor": 0,
       "model_id": "a4f42efd8bd14801923c2a27a767893f"
      }
     },
     "metadata": {},
     "output_type": "display_data"
    },
    {
     "name": "stdout",
     "output_type": "stream",
     "text": [
      "Saving to: dataset\\mining\\img_0001.png\n"
     ]
    },
    {
     "data": {
      "text/plain": [
       "img_0001.png: |          | 0.00/16.2k (raw) [  0.0%] in 00:00 (eta:     ?)"
      ],
      "application/vnd.jupyter.widget-view+json": {
       "version_major": 2,
       "version_minor": 0,
       "model_id": "9ec16e778fbd4ad7b762769d009e78a7"
      }
     },
     "metadata": {},
     "output_type": "display_data"
    },
    {
     "name": "stdout",
     "output_type": "stream",
     "text": [
      "Saving to: dataset\\mining\\img_0002.png\n"
     ]
    },
    {
     "data": {
      "text/plain": [
       "img_0002.png: |          | 0.00/16.2k (raw) [  0.0%] in 00:00 (eta:     ?)"
      ],
      "application/vnd.jupyter.widget-view+json": {
       "version_major": 2,
       "version_minor": 0,
       "model_id": "5ec946d604a24f92920eee617c16b46f"
      }
     },
     "metadata": {},
     "output_type": "display_data"
    },
    {
     "name": "stdout",
     "output_type": "stream",
     "text": [
      "Saving to: dataset\\mining\\img_0003.png\n"
     ]
    },
    {
     "data": {
      "text/plain": [
       "img_0003.png: |          | 0.00/16.2k (raw) [  0.0%] in 00:00 (eta:     ?)"
      ],
      "application/vnd.jupyter.widget-view+json": {
       "version_major": 2,
       "version_minor": 0,
       "model_id": "6046f35dab9749d8ae0f4e1cfad30e46"
      }
     },
     "metadata": {},
     "output_type": "display_data"
    },
    {
     "name": "stdout",
     "output_type": "stream",
     "text": [
      "Saving to: dataset\\mining\\img_0004.png\n"
     ]
    },
    {
     "data": {
      "text/plain": [
       "img_0004.png: |          | 0.00/16.2k (raw) [  0.0%] in 00:00 (eta:     ?)"
      ],
      "application/vnd.jupyter.widget-view+json": {
       "version_major": 2,
       "version_minor": 0,
       "model_id": "27f048b77a854f06891477826421da06"
      }
     },
     "metadata": {},
     "output_type": "display_data"
    },
    {
     "name": "stdout",
     "output_type": "stream",
     "text": [
      "Saving to: dataset\\mining\\img_0005.png\n"
     ]
    },
    {
     "data": {
      "text/plain": [
       "img_0005.png: |          | 0.00/16.5k (raw) [  0.0%] in 00:00 (eta:     ?)"
      ],
      "application/vnd.jupyter.widget-view+json": {
       "version_major": 2,
       "version_minor": 0,
       "model_id": "65f108059dd0463aaef3fa7b26f7611e"
      }
     },
     "metadata": {},
     "output_type": "display_data"
    },
    {
     "name": "stdout",
     "output_type": "stream",
     "text": [
      "Saving to: dataset\\mining\\img_0006.png\n"
     ]
    },
    {
     "data": {
      "text/plain": [
       "img_0006.png: |          | 0.00/16.9k (raw) [  0.0%] in 00:00 (eta:     ?)"
      ],
      "application/vnd.jupyter.widget-view+json": {
       "version_major": 2,
       "version_minor": 0,
       "model_id": "b89c2fd6bd9a47a0aa07ae13fc5ff238"
      }
     },
     "metadata": {},
     "output_type": "display_data"
    },
    {
     "name": "stdout",
     "output_type": "stream",
     "text": [
      "Saving to: dataset\\mining\\img_0007.png\n"
     ]
    },
    {
     "data": {
      "text/plain": [
       "img_0007.png: |          | 0.00/16.5k (raw) [  0.0%] in 00:00 (eta:     ?)"
      ],
      "application/vnd.jupyter.widget-view+json": {
       "version_major": 2,
       "version_minor": 0,
       "model_id": "e9942deebb4f472f8ce214cd72657704"
      }
     },
     "metadata": {},
     "output_type": "display_data"
    },
    {
     "name": "stdout",
     "output_type": "stream",
     "text": [
      "Saving to: dataset\\mining\\img_0008.png\n"
     ]
    },
    {
     "data": {
      "text/plain": [
       "img_0008.png: |          | 0.00/16.2k (raw) [  0.0%] in 00:00 (eta:     ?)"
      ],
      "application/vnd.jupyter.widget-view+json": {
       "version_major": 2,
       "version_minor": 0,
       "model_id": "c78aaa1092a14d01ab5d237c267850b7"
      }
     },
     "metadata": {},
     "output_type": "display_data"
    },
    {
     "name": "stdout",
     "output_type": "stream",
     "text": [
      "Saving to: dataset\\mining\\img_0009.png\n"
     ]
    },
    {
     "data": {
      "text/plain": [
       "img_0009.png: |          | 0.00/16.9k (raw) [  0.0%] in 00:00 (eta:     ?)"
      ],
      "application/vnd.jupyter.widget-view+json": {
       "version_major": 2,
       "version_minor": 0,
       "model_id": "c8b2655d29f645ec9aa4da8ec4eb0c12"
      }
     },
     "metadata": {},
     "output_type": "display_data"
    },
    {
     "name": "stdout",
     "output_type": "stream",
     "text": [
      "Saving to: dataset\\control\\img_0000.png\n"
     ]
    },
    {
     "data": {
      "text/plain": [
       "img_0000.png: |          | 0.00/16.2k (raw) [  0.0%] in 00:00 (eta:     ?)"
      ],
      "application/vnd.jupyter.widget-view+json": {
       "version_major": 2,
       "version_minor": 0,
       "model_id": "444548f2197c4107b0c63eaecda12e29"
      }
     },
     "metadata": {},
     "output_type": "display_data"
    },
    {
     "name": "stdout",
     "output_type": "stream",
     "text": [
      "Saving to: dataset\\control\\img_0001.png\n"
     ]
    },
    {
     "data": {
      "text/plain": [
       "img_0001.png: |          | 0.00/16.2k (raw) [  0.0%] in 00:00 (eta:     ?)"
      ],
      "application/vnd.jupyter.widget-view+json": {
       "version_major": 2,
       "version_minor": 0,
       "model_id": "907859db201944f1bf30c4c1ffe31242"
      }
     },
     "metadata": {},
     "output_type": "display_data"
    },
    {
     "name": "stdout",
     "output_type": "stream",
     "text": [
      "Saving to: dataset\\control\\img_0002.png\n"
     ]
    },
    {
     "data": {
      "text/plain": [
       "img_0002.png: |          | 0.00/16.9k (raw) [  0.0%] in 00:00 (eta:     ?)"
      ],
      "application/vnd.jupyter.widget-view+json": {
       "version_major": 2,
       "version_minor": 0,
       "model_id": "ab0aaa92a2404fc9a7c56f90527abfcb"
      }
     },
     "metadata": {},
     "output_type": "display_data"
    },
    {
     "name": "stdout",
     "output_type": "stream",
     "text": [
      "Saving to: dataset\\control\\img_0003.png\n"
     ]
    },
    {
     "data": {
      "text/plain": [
       "img_0003.png: |          | 0.00/16.5k (raw) [  0.0%] in 00:00 (eta:     ?)"
      ],
      "application/vnd.jupyter.widget-view+json": {
       "version_major": 2,
       "version_minor": 0,
       "model_id": "72383ef1edce40ef864beb9cbedf0e88"
      }
     },
     "metadata": {},
     "output_type": "display_data"
    },
    {
     "name": "stdout",
     "output_type": "stream",
     "text": [
      "Saving to: dataset\\control\\img_0004.png\n"
     ]
    },
    {
     "data": {
      "text/plain": [
       "img_0004.png: |          | 0.00/16.5k (raw) [  0.0%] in 00:00 (eta:     ?)"
      ],
      "application/vnd.jupyter.widget-view+json": {
       "version_major": 2,
       "version_minor": 0,
       "model_id": "aeea0cb8fab84142b984bcd40e6561e2"
      }
     },
     "metadata": {},
     "output_type": "display_data"
    },
    {
     "name": "stdout",
     "output_type": "stream",
     "text": [
      "Saving to: dataset\\control\\img_0005.png\n"
     ]
    },
    {
     "data": {
      "text/plain": [
       "img_0005.png: |          | 0.00/16.2k (raw) [  0.0%] in 00:00 (eta:     ?)"
      ],
      "application/vnd.jupyter.widget-view+json": {
       "version_major": 2,
       "version_minor": 0,
       "model_id": "26e98502fe5049e4a122cbf382cf15e4"
      }
     },
     "metadata": {},
     "output_type": "display_data"
    },
    {
     "name": "stdout",
     "output_type": "stream",
     "text": [
      "Saving to: dataset\\control\\img_0006.png\n"
     ]
    },
    {
     "data": {
      "text/plain": [
       "img_0006.png: |          | 0.00/16.2k (raw) [  0.0%] in 00:00 (eta:     ?)"
      ],
      "application/vnd.jupyter.widget-view+json": {
       "version_major": 2,
       "version_minor": 0,
       "model_id": "e6537d1bed0b45459f5c622c20011c8e"
      }
     },
     "metadata": {},
     "output_type": "display_data"
    },
    {
     "name": "stdout",
     "output_type": "stream",
     "text": [
      "Saving to: dataset\\control\\img_0007.png\n"
     ]
    },
    {
     "data": {
      "text/plain": [
       "img_0007.png: |          | 0.00/16.2k (raw) [  0.0%] in 00:00 (eta:     ?)"
      ],
      "application/vnd.jupyter.widget-view+json": {
       "version_major": 2,
       "version_minor": 0,
       "model_id": "7372869abf6842fba57bf5da702a062e"
      }
     },
     "metadata": {},
     "output_type": "display_data"
    },
    {
     "name": "stdout",
     "output_type": "stream",
     "text": [
      "Saving to: dataset\\control\\img_0008.png\n"
     ]
    },
    {
     "data": {
      "text/plain": [
       "img_0008.png: |          | 0.00/16.2k (raw) [  0.0%] in 00:00 (eta:     ?)"
      ],
      "application/vnd.jupyter.widget-view+json": {
       "version_major": 2,
       "version_minor": 0,
       "model_id": "65d5eea81d9e4046b734d3ec690cbb02"
      }
     },
     "metadata": {},
     "output_type": "display_data"
    },
    {
     "name": "stdout",
     "output_type": "stream",
     "text": [
      "Saving to: dataset\\control\\img_0009.png\n"
     ]
    },
    {
     "data": {
      "text/plain": [
       "img_0009.png: |          | 0.00/16.2k (raw) [  0.0%] in 00:00 (eta:     ?)"
      ],
      "application/vnd.jupyter.widget-view+json": {
       "version_major": 2,
       "version_minor": 0,
       "model_id": "a403b623631b4e8d8128f07b7cb83ce6"
      }
     },
     "metadata": {},
     "output_type": "display_data"
    },
    {
     "name": "stdout",
     "output_type": "stream",
     "text": [
      "\n",
      "✅ Samples saved: {'mining': 10, 'control': 10}\n",
      "📂 Folder: dataset\n"
     ]
    }
   ],
   "execution_count": 5
  }
 ],
 "metadata": {
  "kernelspec": {
   "display_name": "Python 3",
   "language": "python",
   "name": "python3"
  },
  "language_info": {
   "codemirror_mode": {
    "name": "ipython",
    "version": 2
   },
   "file_extension": ".py",
   "mimetype": "text/x-python",
   "name": "python",
   "nbconvert_exporter": "python",
   "pygments_lexer": "ipython2",
   "version": "2.7.6"
  }
 },
 "nbformat": 4,
 "nbformat_minor": 5
}
