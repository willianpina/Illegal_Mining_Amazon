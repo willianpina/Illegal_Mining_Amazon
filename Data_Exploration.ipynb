{
 "cells": [
  {
   "metadata": {},
   "cell_type": "markdown",
   "source": "# Análise de Dados de Mineração Ilegal na Amazônia",
   "id": "748d3099a6e46a3e"
  },
  {
   "metadata": {
    "ExecuteTime": {
     "end_time": "2025-04-06T01:01:01.355728Z",
     "start_time": "2025-04-06T01:01:00.500445Z"
    }
   },
   "cell_type": "code",
   "source": [
    "# Utilizando uma Base de Dados do RAISG\n",
    "from owslib.wms import WebMapService\n",
    "\n",
    "# URL base (sem o request específico)\n",
    "url = \"https://geo.socioambiental.org/webadaptor2/services/PilotoGarimpo/garimpo_ilegal/MapServer/WMSServer\"\n",
    "\n",
    "# Conectando ao serviço WMS\n",
    "wms = WebMapService(url, version='1.3.0')\n",
    "\n",
    "# Explorando os Layers\n",
    "for layer_id, layer in wms.contents.items():\n",
    "    print(f\"{layer_id}: {layer.title}\")"
   ],
   "id": "47410527b68ec1f2",
   "outputs": [
    {
     "name": "stdout",
     "output_type": "stream",
     "text": [
      "2: Bosque Protectores (Ecuador)\n",
      "3: ANP departamental\n",
      "4: ANP Nacional\n",
      "5: TI afectada\n",
      "6: Minería: concesiones legales\n",
      "8: áreas de ocurrencia\n",
      "9: balsas\n",
      "10: Localización puntual\n",
      "11: Amazonía\n",
      "13: Municipal\n",
      "14: Departamental\n",
      "15: vias\n",
      "17: ciudad principal\n",
      "18: capital de Departamento/Estado\n",
      "19: capital de país\n"
     ]
    }
   ],
   "execution_count": 1
  },
  {
   "metadata": {
    "ExecuteTime": {
     "end_time": "2025-04-06T01:01:06.966638Z",
     "start_time": "2025-04-06T01:01:01.379523Z"
    }
   },
   "cell_type": "code",
   "source": [
    "import geemap\n",
    "\n",
    "# Criar mapa centralizado na Amazônia\n",
    "Map = geemap.Map(center=[-4, -62], zoom=5)\n",
    "\n",
    "Map.add_basemap('HYBRID')  # Imagem de satélite do Google com rótulos\n",
    "Map.add_basemap('Esri.WorldImagery')  # Outro visual bonito\n",
    "\n",
    "# Adicionar camada de áreas de ocorrência (layer 8)\n",
    "Map.add_wms_layer(\n",
    "    url=\"https://geo.socioambiental.org/webadaptor2/services/PilotoGarimpo/garimpo_ilegal/MapServer/WMSServer\",\n",
    "    layers=\"8\",\n",
    "    name=\"Áreas de Ocorrência\",\n",
    "    format=\"image/png\",\n",
    "    transparent=True\n",
    ")\n",
    "\n",
    "# Exibir o mapa\n",
    "Map\n"
   ],
   "id": "2dec568730ba1e06",
   "outputs": [
    {
     "data": {
      "text/plain": [
       "Map(center=[-4, -62], controls=(WidgetControl(options=['position', 'transparent_bg'], widget=SearchDataGUI(chi…"
      ],
      "application/vnd.jupyter.widget-view+json": {
       "version_major": 2,
       "version_minor": 0,
       "model_id": "518641869a15435b904d511ded25ecbf"
      }
     },
     "execution_count": 2,
     "metadata": {},
     "output_type": "execute_result"
    }
   ],
   "execution_count": 2
  },
  {
   "metadata": {},
   "cell_type": "markdown",
   "source": [
    "Claro, Willian! Aqui vai uma versão melhor estruturada e explicativa do seu texto, mantendo o foco técnico e clareza para documentação ou notebook:\n",
    "\n",
    "---\n",
    "\n",
    "## 🧱 CONSTRUÇÃO DO CONJUNTO DE DADOS\n",
    "\n",
    "Nesta etapa, vamos construir um conjunto de dados georreferenciado contendo amostras de regiões com e sem ocorrência de **mineração ilegal**.\n",
    "\n",
    "### 🎯 Objetivo\n",
    "\n",
    "Extrair imagens de satélite de alta resolução que serão utilizadas como entradas para modelos de classificação. As imagens serão organizadas em duas categorias:\n",
    "\n",
    "- `garimpo`: áreas com ocorrência conhecida de mineração ilegal;\n",
    "- `controle`: áreas sem sinais de mineração, usadas como referência.\n",
    "\n",
    "---\n",
    "\n",
    "### 🛰️ Fonte dos dados\n",
    "\n",
    "Utilizaremos imagens do satélite **Sentinel-2**, da coleção `COPERNICUS/S2_SR_HARMONIZED`, disponível no **Google Earth Engine**. Essa coleção oferece:\n",
    "\n",
    "- Resolução espacial de até **10 metros**;\n",
    "- Cobertura global;\n",
    "- Imagens com bandas multiespectrais;\n",
    "- Atualizações frequentes (a cada 5 dias em média).\n",
    "\n",
    "---\n",
    "\n",
    "### ⚙️ Processo de coleta\n",
    "\n",
    "1. **Selecionamos pontos de amostragem geográficos** com base em shapefiles:\n",
    "   - Polígonos de áreas afetadas (`MineriaIlegal_pol.shp`);\n",
    "   - Pontos pontuais registrados (`MineriaIlegal_pt.shp`);\n",
    "   - Pontos aleatórios fora dessas áreas (classe controle).\n",
    "\n",
    "2. **Para cada ponto:**\n",
    "   - Selecionamos a **imagem mais recente com menor cobertura de nuvens** disponível na coleção Sentinel-2;\n",
    "   - Recortamos um patch (ex: 512m x 512m) centrado no ponto;\n",
    "   - Extraímos as bandas visuais (`B4`, `B3`, `B2`, correspondentes a RGB);\n",
    "   - Salvamos o patch como imagem `.png`.\n",
    "\n",
    "---\n",
    "\n",
    "### 📂 Estrutura do diretório de saída\n",
    "\n",
    "As imagens são salvas automaticamente na seguinte estrutura de diretórios:\n",
    "\n",
    "```\n",
    "dataset/\n",
    "├── garimpo/\n",
    "│   ├── img_0000.png\n",
    "│   ├── img_0001.png\n",
    "│   └── ...\n",
    "├── controle/\n",
    "│   ├── img_0000.png\n",
    "│   ├── img_0001.png\n",
    "│   └── ...\n",
    "```\n",
    "\n",
    "---\n",
    "\n",
    "### ✅ Resultado final\n",
    "\n",
    "Um conjunto de dados visual, padronizado, e pronto para ser utilizado no treinamento de modelos de **classificação supervisionada**, como CNNs no TensorFlow.\n",
    "\n",
    "---"
   ],
   "id": "28cebdc44d8cb70d"
  },
  {
   "metadata": {
    "ExecuteTime": {
     "end_time": "2025-04-06T01:05:06.059948Z",
     "start_time": "2025-04-06T01:01:49.157567Z"
    }
   },
   "cell_type": "code",
   "source": [
    "from utils.sample_collector import generate_samples_and_download_images\n",
    "\n",
    "samples = generate_samples_and_download_images(\n",
    "    shp_pol_path=\"MineriaIlegal_2022/MineriaIlegal_pol.shp\",\n",
    "    shp_pt_path=\"MineriaIlegal_2022/MineriaIlegal_pt.shp\",\n",
    "    n_samples_mining=20,\n",
    "    n_samples_control=20,\n",
    "    dataset_dir=\"dataset\"\n",
    ")"
   ],
   "id": "f54bb8b5d55444a",
   "outputs": [
    {
     "data": {
      "text/plain": [
       "<IPython.core.display.HTML object>"
      ],
      "text/html": [
       "\n",
       "            <style>\n",
       "                .geemap-dark {\n",
       "                    --jp-widgets-color: white;\n",
       "                    --jp-widgets-label-color: white;\n",
       "                    --jp-ui-font-color1: white;\n",
       "                    --jp-layout-color2: #454545;\n",
       "                    background-color: #383838;\n",
       "                }\n",
       "\n",
       "                .geemap-dark .jupyter-button {\n",
       "                    --jp-layout-color3: #383838;\n",
       "                }\n",
       "\n",
       "                .geemap-colab {\n",
       "                    background-color: var(--colab-primary-surface-color, white);\n",
       "                }\n",
       "\n",
       "                .geemap-colab .jupyter-button {\n",
       "                    --jp-layout-color3: var(--colab-primary-surface-color, white);\n",
       "                }\n",
       "            </style>\n",
       "            "
      ]
     },
     "metadata": {},
     "output_type": "display_data"
    },
    {
     "name": "stdout",
     "output_type": "stream",
     "text": [
      "Saving to: dataset\\mining\\img_0000.png\n"
     ]
    },
    {
     "data": {
      "text/plain": [
       "img_0000.png: |          | 0.00/16.5k (raw) [  0.0%] in 00:00 (eta:     ?)"
      ],
      "application/vnd.jupyter.widget-view+json": {
       "version_major": 2,
       "version_minor": 0,
       "model_id": "4e2cfd9a6e984f2db76f921b25d67807"
      }
     },
     "metadata": {},
     "output_type": "display_data"
    },
    {
     "name": "stdout",
     "output_type": "stream",
     "text": [
      "Saving to: dataset\\mining\\img_0001.png\n"
     ]
    },
    {
     "data": {
      "text/plain": [
       "img_0001.png: |          | 0.00/16.2k (raw) [  0.0%] in 00:00 (eta:     ?)"
      ],
      "application/vnd.jupyter.widget-view+json": {
       "version_major": 2,
       "version_minor": 0,
       "model_id": "024e7707fbe3471dbd051b75f7a37d92"
      }
     },
     "metadata": {},
     "output_type": "display_data"
    },
    {
     "name": "stdout",
     "output_type": "stream",
     "text": [
      "Saving to: dataset\\mining\\img_0002.png\n"
     ]
    },
    {
     "data": {
      "text/plain": [
       "img_0002.png: |          | 0.00/16.2k (raw) [  0.0%] in 00:00 (eta:     ?)"
      ],
      "application/vnd.jupyter.widget-view+json": {
       "version_major": 2,
       "version_minor": 0,
       "model_id": "d577d9b1d8ac45d98866f298e61a4a61"
      }
     },
     "metadata": {},
     "output_type": "display_data"
    },
    {
     "name": "stdout",
     "output_type": "stream",
     "text": [
      "Saving to: dataset\\mining\\img_0003.png\n"
     ]
    },
    {
     "data": {
      "text/plain": [
       "img_0003.png: |          | 0.00/16.2k (raw) [  0.0%] in 00:00 (eta:     ?)"
      ],
      "application/vnd.jupyter.widget-view+json": {
       "version_major": 2,
       "version_minor": 0,
       "model_id": "26921038294142b1a39d543349606629"
      }
     },
     "metadata": {},
     "output_type": "display_data"
    },
    {
     "name": "stdout",
     "output_type": "stream",
     "text": [
      "Saving to: dataset\\mining\\img_0004.png\n"
     ]
    },
    {
     "data": {
      "text/plain": [
       "img_0004.png: |          | 0.00/16.2k (raw) [  0.0%] in 00:00 (eta:     ?)"
      ],
      "application/vnd.jupyter.widget-view+json": {
       "version_major": 2,
       "version_minor": 0,
       "model_id": "faa04c4ef5984f5d886d27119ccf5fa2"
      }
     },
     "metadata": {},
     "output_type": "display_data"
    },
    {
     "name": "stdout",
     "output_type": "stream",
     "text": [
      "Saving to: dataset\\mining\\img_0005.png\n"
     ]
    },
    {
     "data": {
      "text/plain": [
       "img_0005.png: |          | 0.00/16.5k (raw) [  0.0%] in 00:00 (eta:     ?)"
      ],
      "application/vnd.jupyter.widget-view+json": {
       "version_major": 2,
       "version_minor": 0,
       "model_id": "41a687ca04014440b7c60476a58d1d0e"
      }
     },
     "metadata": {},
     "output_type": "display_data"
    },
    {
     "name": "stdout",
     "output_type": "stream",
     "text": [
      "Saving to: dataset\\mining\\img_0006.png\n"
     ]
    },
    {
     "data": {
      "text/plain": [
       "img_0006.png: |          | 0.00/16.9k (raw) [  0.0%] in 00:00 (eta:     ?)"
      ],
      "application/vnd.jupyter.widget-view+json": {
       "version_major": 2,
       "version_minor": 0,
       "model_id": "852a3cd8c9e14eb4ac81318c29dccd7e"
      }
     },
     "metadata": {},
     "output_type": "display_data"
    },
    {
     "name": "stdout",
     "output_type": "stream",
     "text": [
      "Saving to: dataset\\mining\\img_0007.png\n"
     ]
    },
    {
     "data": {
      "text/plain": [
       "img_0007.png: |          | 0.00/16.5k (raw) [  0.0%] in 00:00 (eta:     ?)"
      ],
      "application/vnd.jupyter.widget-view+json": {
       "version_major": 2,
       "version_minor": 0,
       "model_id": "647ac49b253440288e47cbbec85acf78"
      }
     },
     "metadata": {},
     "output_type": "display_data"
    },
    {
     "name": "stdout",
     "output_type": "stream",
     "text": [
      "Saving to: dataset\\mining\\img_0008.png\n"
     ]
    },
    {
     "data": {
      "text/plain": [
       "img_0008.png: |          | 0.00/16.2k (raw) [  0.0%] in 00:00 (eta:     ?)"
      ],
      "application/vnd.jupyter.widget-view+json": {
       "version_major": 2,
       "version_minor": 0,
       "model_id": "4904603330ae49d18a1fc0a7ca86299a"
      }
     },
     "metadata": {},
     "output_type": "display_data"
    },
    {
     "name": "stdout",
     "output_type": "stream",
     "text": [
      "Saving to: dataset\\mining\\img_0009.png\n"
     ]
    },
    {
     "data": {
      "text/plain": [
       "img_0009.png: |          | 0.00/16.9k (raw) [  0.0%] in 00:00 (eta:     ?)"
      ],
      "application/vnd.jupyter.widget-view+json": {
       "version_major": 2,
       "version_minor": 0,
       "model_id": "f82c290e5d3b4460ae9db71123ee62aa"
      }
     },
     "metadata": {},
     "output_type": "display_data"
    },
    {
     "name": "stdout",
     "output_type": "stream",
     "text": [
      "Saving to: dataset\\mining\\img_0010.png\n"
     ]
    },
    {
     "data": {
      "text/plain": [
       "img_0010.png: |          | 0.00/16.9k (raw) [  0.0%] in 00:00 (eta:     ?)"
      ],
      "application/vnd.jupyter.widget-view+json": {
       "version_major": 2,
       "version_minor": 0,
       "model_id": "ef477bc7a64d4d939ffc1871a1d220c6"
      }
     },
     "metadata": {},
     "output_type": "display_data"
    },
    {
     "name": "stdout",
     "output_type": "stream",
     "text": [
      "Saving to: dataset\\mining\\img_0011.png\n"
     ]
    },
    {
     "data": {
      "text/plain": [
       "img_0011.png: |          | 0.00/16.5k (raw) [  0.0%] in 00:00 (eta:     ?)"
      ],
      "application/vnd.jupyter.widget-view+json": {
       "version_major": 2,
       "version_minor": 0,
       "model_id": "c0e8a586ca694c4cbebde6f0c9a30fdd"
      }
     },
     "metadata": {},
     "output_type": "display_data"
    },
    {
     "name": "stdout",
     "output_type": "stream",
     "text": [
      "Saving to: dataset\\mining\\img_0012.png\n"
     ]
    },
    {
     "data": {
      "text/plain": [
       "img_0012.png: |          | 0.00/16.2k (raw) [  0.0%] in 00:00 (eta:     ?)"
      ],
      "application/vnd.jupyter.widget-view+json": {
       "version_major": 2,
       "version_minor": 0,
       "model_id": "12b8cf90accd41f0a7ca9c03c28b00cd"
      }
     },
     "metadata": {},
     "output_type": "display_data"
    },
    {
     "name": "stdout",
     "output_type": "stream",
     "text": [
      "Saving to: dataset\\mining\\img_0013.png\n"
     ]
    },
    {
     "data": {
      "text/plain": [
       "img_0013.png: |          | 0.00/16.2k (raw) [  0.0%] in 00:00 (eta:     ?)"
      ],
      "application/vnd.jupyter.widget-view+json": {
       "version_major": 2,
       "version_minor": 0,
       "model_id": "215e4d3ea18f4a9fa94f99d9184a358b"
      }
     },
     "metadata": {},
     "output_type": "display_data"
    },
    {
     "name": "stdout",
     "output_type": "stream",
     "text": [
      "Saving to: dataset\\mining\\img_0014.png\n"
     ]
    },
    {
     "data": {
      "text/plain": [
       "img_0014.png: |          | 0.00/16.5k (raw) [  0.0%] in 00:00 (eta:     ?)"
      ],
      "application/vnd.jupyter.widget-view+json": {
       "version_major": 2,
       "version_minor": 0,
       "model_id": "1e3623bbb97a4647aea8158f22a5f394"
      }
     },
     "metadata": {},
     "output_type": "display_data"
    },
    {
     "name": "stdout",
     "output_type": "stream",
     "text": [
      "Saving to: dataset\\mining\\img_0015.png\n"
     ]
    },
    {
     "data": {
      "text/plain": [
       "img_0015.png: |          | 0.00/16.5k (raw) [  0.0%] in 00:00 (eta:     ?)"
      ],
      "application/vnd.jupyter.widget-view+json": {
       "version_major": 2,
       "version_minor": 0,
       "model_id": "4ff1ec34b78843de8f6bd9ceda16fbc2"
      }
     },
     "metadata": {},
     "output_type": "display_data"
    },
    {
     "name": "stdout",
     "output_type": "stream",
     "text": [
      "Saving to: dataset\\mining\\img_0016.png\n"
     ]
    },
    {
     "data": {
      "text/plain": [
       "img_0016.png: |          | 0.00/16.2k (raw) [  0.0%] in 00:00 (eta:     ?)"
      ],
      "application/vnd.jupyter.widget-view+json": {
       "version_major": 2,
       "version_minor": 0,
       "model_id": "04b11f3745104cb1b52b0c60f392ae89"
      }
     },
     "metadata": {},
     "output_type": "display_data"
    },
    {
     "name": "stdout",
     "output_type": "stream",
     "text": [
      "Saving to: dataset\\mining\\img_0017.png\n"
     ]
    },
    {
     "data": {
      "text/plain": [
       "img_0017.png: |          | 0.00/16.2k (raw) [  0.0%] in 00:00 (eta:     ?)"
      ],
      "application/vnd.jupyter.widget-view+json": {
       "version_major": 2,
       "version_minor": 0,
       "model_id": "1e0773677adb42a08e2bcc79c403636e"
      }
     },
     "metadata": {},
     "output_type": "display_data"
    },
    {
     "name": "stdout",
     "output_type": "stream",
     "text": [
      "Saving to: dataset\\mining\\img_0018.png\n"
     ]
    },
    {
     "data": {
      "text/plain": [
       "img_0018.png: |          | 0.00/16.2k (raw) [  0.0%] in 00:00 (eta:     ?)"
      ],
      "application/vnd.jupyter.widget-view+json": {
       "version_major": 2,
       "version_minor": 0,
       "model_id": "4ff3f5ba76c048e5a6c7015bffc26909"
      }
     },
     "metadata": {},
     "output_type": "display_data"
    },
    {
     "name": "stdout",
     "output_type": "stream",
     "text": [
      "Saving to: dataset\\mining\\img_0019.png\n"
     ]
    },
    {
     "data": {
      "text/plain": [
       "img_0019.png: |          | 0.00/16.5k (raw) [  0.0%] in 00:00 (eta:     ?)"
      ],
      "application/vnd.jupyter.widget-view+json": {
       "version_major": 2,
       "version_minor": 0,
       "model_id": "505129d0f6bd48d48ed183ff8cbb5c66"
      }
     },
     "metadata": {},
     "output_type": "display_data"
    },
    {
     "name": "stdout",
     "output_type": "stream",
     "text": [
      "Saving to: dataset\\control\\img_0000.png\n"
     ]
    },
    {
     "data": {
      "text/plain": [
       "img_0000.png: |          | 0.00/16.2k (raw) [  0.0%] in 00:00 (eta:     ?)"
      ],
      "application/vnd.jupyter.widget-view+json": {
       "version_major": 2,
       "version_minor": 0,
       "model_id": "0eeceeeea6e04a35bff841b0a36ae644"
      }
     },
     "metadata": {},
     "output_type": "display_data"
    },
    {
     "name": "stdout",
     "output_type": "stream",
     "text": [
      "Saving to: dataset\\control\\img_0001.png\n"
     ]
    },
    {
     "data": {
      "text/plain": [
       "img_0001.png: |          | 0.00/16.2k (raw) [  0.0%] in 00:00 (eta:     ?)"
      ],
      "application/vnd.jupyter.widget-view+json": {
       "version_major": 2,
       "version_minor": 0,
       "model_id": "782e662a24224b88bc3beeea8b56ec0f"
      }
     },
     "metadata": {},
     "output_type": "display_data"
    },
    {
     "name": "stdout",
     "output_type": "stream",
     "text": [
      "Saving to: dataset\\control\\img_0002.png\n"
     ]
    },
    {
     "data": {
      "text/plain": [
       "img_0002.png: |          | 0.00/16.2k (raw) [  0.0%] in 00:00 (eta:     ?)"
      ],
      "application/vnd.jupyter.widget-view+json": {
       "version_major": 2,
       "version_minor": 0,
       "model_id": "6cc190bd9cde4f5e89b88b11ca61b1cc"
      }
     },
     "metadata": {},
     "output_type": "display_data"
    },
    {
     "name": "stdout",
     "output_type": "stream",
     "text": [
      "Saving to: dataset\\control\\img_0003.png\n"
     ]
    },
    {
     "data": {
      "text/plain": [
       "img_0003.png: |          | 0.00/16.2k (raw) [  0.0%] in 00:00 (eta:     ?)"
      ],
      "application/vnd.jupyter.widget-view+json": {
       "version_major": 2,
       "version_minor": 0,
       "model_id": "2d914997699b46dba4667eec4d9fbe80"
      }
     },
     "metadata": {},
     "output_type": "display_data"
    },
    {
     "name": "stdout",
     "output_type": "stream",
     "text": [
      "Saving to: dataset\\control\\img_0004.png\n"
     ]
    },
    {
     "data": {
      "text/plain": [
       "img_0004.png: |          | 0.00/16.5k (raw) [  0.0%] in 00:00 (eta:     ?)"
      ],
      "application/vnd.jupyter.widget-view+json": {
       "version_major": 2,
       "version_minor": 0,
       "model_id": "06154f3fd1944908b15a0cb3cbdae6a7"
      }
     },
     "metadata": {},
     "output_type": "display_data"
    },
    {
     "name": "stdout",
     "output_type": "stream",
     "text": [
      "Saving to: dataset\\control\\img_0005.png\n"
     ]
    },
    {
     "data": {
      "text/plain": [
       "img_0005.png: |          | 0.00/16.5k (raw) [  0.0%] in 00:00 (eta:     ?)"
      ],
      "application/vnd.jupyter.widget-view+json": {
       "version_major": 2,
       "version_minor": 0,
       "model_id": "7b0b4c9741d24c91abeaaf2bbfb3faed"
      }
     },
     "metadata": {},
     "output_type": "display_data"
    },
    {
     "name": "stdout",
     "output_type": "stream",
     "text": [
      "Saving to: dataset\\control\\img_0006.png\n"
     ]
    },
    {
     "data": {
      "text/plain": [
       "img_0006.png: |          | 0.00/16.5k (raw) [  0.0%] in 00:00 (eta:     ?)"
      ],
      "application/vnd.jupyter.widget-view+json": {
       "version_major": 2,
       "version_minor": 0,
       "model_id": "e0ab4ee01fff4568a772691000240cd0"
      }
     },
     "metadata": {},
     "output_type": "display_data"
    },
    {
     "name": "stdout",
     "output_type": "stream",
     "text": [
      "Saving to: dataset\\control\\img_0007.png\n"
     ]
    },
    {
     "data": {
      "text/plain": [
       "img_0007.png: |          | 0.00/16.5k (raw) [  0.0%] in 00:00 (eta:     ?)"
      ],
      "application/vnd.jupyter.widget-view+json": {
       "version_major": 2,
       "version_minor": 0,
       "model_id": "1e98b9287382481e8ead9c6835c7addf"
      }
     },
     "metadata": {},
     "output_type": "display_data"
    },
    {
     "name": "stdout",
     "output_type": "stream",
     "text": [
      "Saving to: dataset\\control\\img_0008.png\n"
     ]
    },
    {
     "data": {
      "text/plain": [
       "img_0008.png: |          | 0.00/16.5k (raw) [  0.0%] in 00:00 (eta:     ?)"
      ],
      "application/vnd.jupyter.widget-view+json": {
       "version_major": 2,
       "version_minor": 0,
       "model_id": "06834c0d064b4e95ad368c93a0627516"
      }
     },
     "metadata": {},
     "output_type": "display_data"
    },
    {
     "name": "stdout",
     "output_type": "stream",
     "text": [
      "Saving to: dataset\\control\\img_0009.png\n"
     ]
    },
    {
     "data": {
      "text/plain": [
       "img_0009.png: |          | 0.00/16.5k (raw) [  0.0%] in 00:00 (eta:     ?)"
      ],
      "application/vnd.jupyter.widget-view+json": {
       "version_major": 2,
       "version_minor": 0,
       "model_id": "1caefea56d484f13b05a6c37db6b037d"
      }
     },
     "metadata": {},
     "output_type": "display_data"
    },
    {
     "name": "stdout",
     "output_type": "stream",
     "text": [
      "Saving to: dataset\\control\\img_0010.png\n"
     ]
    },
    {
     "data": {
      "text/plain": [
       "img_0010.png: |          | 0.00/16.2k (raw) [  0.0%] in 00:00 (eta:     ?)"
      ],
      "application/vnd.jupyter.widget-view+json": {
       "version_major": 2,
       "version_minor": 0,
       "model_id": "5622945abf9f4e1bb6bc5e902bf35a0f"
      }
     },
     "metadata": {},
     "output_type": "display_data"
    },
    {
     "name": "stdout",
     "output_type": "stream",
     "text": [
      "Saving to: dataset\\control\\img_0011.png\n"
     ]
    },
    {
     "data": {
      "text/plain": [
       "img_0011.png: |          | 0.00/16.2k (raw) [  0.0%] in 00:00 (eta:     ?)"
      ],
      "application/vnd.jupyter.widget-view+json": {
       "version_major": 2,
       "version_minor": 0,
       "model_id": "f6345bb5c811468d98314701964ab022"
      }
     },
     "metadata": {},
     "output_type": "display_data"
    },
    {
     "name": "stdout",
     "output_type": "stream",
     "text": [
      "Saving to: dataset\\control\\img_0012.png\n"
     ]
    },
    {
     "data": {
      "text/plain": [
       "img_0012.png: |          | 0.00/16.2k (raw) [  0.0%] in 00:00 (eta:     ?)"
      ],
      "application/vnd.jupyter.widget-view+json": {
       "version_major": 2,
       "version_minor": 0,
       "model_id": "29339c6dab6f47e9b80ed95bc617df4f"
      }
     },
     "metadata": {},
     "output_type": "display_data"
    },
    {
     "name": "stdout",
     "output_type": "stream",
     "text": [
      "Saving to: dataset\\control\\img_0013.png\n"
     ]
    },
    {
     "data": {
      "text/plain": [
       "img_0013.png: |          | 0.00/16.5k (raw) [  0.0%] in 00:00 (eta:     ?)"
      ],
      "application/vnd.jupyter.widget-view+json": {
       "version_major": 2,
       "version_minor": 0,
       "model_id": "a087ccf9cdd54fb6ab0afa5b862b84ba"
      }
     },
     "metadata": {},
     "output_type": "display_data"
    },
    {
     "name": "stdout",
     "output_type": "stream",
     "text": [
      "Saving to: dataset\\control\\img_0014.png\n"
     ]
    },
    {
     "data": {
      "text/plain": [
       "img_0014.png: |          | 0.00/16.5k (raw) [  0.0%] in 00:00 (eta:     ?)"
      ],
      "application/vnd.jupyter.widget-view+json": {
       "version_major": 2,
       "version_minor": 0,
       "model_id": "1d8fca92bd7845e89bda7da5b12575ef"
      }
     },
     "metadata": {},
     "output_type": "display_data"
    },
    {
     "name": "stdout",
     "output_type": "stream",
     "text": [
      "Saving to: dataset\\control\\img_0015.png\n"
     ]
    },
    {
     "data": {
      "text/plain": [
       "img_0015.png: |          | 0.00/16.2k (raw) [  0.0%] in 00:00 (eta:     ?)"
      ],
      "application/vnd.jupyter.widget-view+json": {
       "version_major": 2,
       "version_minor": 0,
       "model_id": "d9a3973fc57b4d59bffe9fc86b26df8e"
      }
     },
     "metadata": {},
     "output_type": "display_data"
    },
    {
     "name": "stdout",
     "output_type": "stream",
     "text": [
      "Saving to: dataset\\control\\img_0016.png\n"
     ]
    },
    {
     "data": {
      "text/plain": [
       "img_0016.png: |          | 0.00/16.2k (raw) [  0.0%] in 00:00 (eta:     ?)"
      ],
      "application/vnd.jupyter.widget-view+json": {
       "version_major": 2,
       "version_minor": 0,
       "model_id": "f5834ce970734cf284224cc05a6de7fa"
      }
     },
     "metadata": {},
     "output_type": "display_data"
    },
    {
     "name": "stdout",
     "output_type": "stream",
     "text": [
      "Saving to: dataset\\control\\img_0017.png\n"
     ]
    },
    {
     "data": {
      "text/plain": [
       "img_0017.png: |          | 0.00/16.5k (raw) [  0.0%] in 00:00 (eta:     ?)"
      ],
      "application/vnd.jupyter.widget-view+json": {
       "version_major": 2,
       "version_minor": 0,
       "model_id": "9a67692f7a2244ba83b91ba6a3dc4232"
      }
     },
     "metadata": {},
     "output_type": "display_data"
    },
    {
     "name": "stdout",
     "output_type": "stream",
     "text": [
      "Saving to: dataset\\control\\img_0018.png\n"
     ]
    },
    {
     "data": {
      "text/plain": [
       "img_0018.png: |          | 0.00/16.5k (raw) [  0.0%] in 00:00 (eta:     ?)"
      ],
      "application/vnd.jupyter.widget-view+json": {
       "version_major": 2,
       "version_minor": 0,
       "model_id": "a0fe443b5ad1421d9f9d76e3141cd073"
      }
     },
     "metadata": {},
     "output_type": "display_data"
    },
    {
     "name": "stdout",
     "output_type": "stream",
     "text": [
      "Saving to: dataset\\control\\img_0019.png\n"
     ]
    },
    {
     "data": {
      "text/plain": [
       "img_0019.png: |          | 0.00/16.5k (raw) [  0.0%] in 00:00 (eta:     ?)"
      ],
      "application/vnd.jupyter.widget-view+json": {
       "version_major": 2,
       "version_minor": 0,
       "model_id": "a6f904b8655249f3ba74f297a3430707"
      }
     },
     "metadata": {},
     "output_type": "display_data"
    },
    {
     "name": "stdout",
     "output_type": "stream",
     "text": [
      "\n",
      "✅ Samples saved: {'mining': 20, 'control': 20}\n",
      "📂 Folder: dataset\n"
     ]
    }
   ],
   "execution_count": 4
  }
 ],
 "metadata": {
  "kernelspec": {
   "display_name": "Python 3",
   "language": "python",
   "name": "python3"
  },
  "language_info": {
   "codemirror_mode": {
    "name": "ipython",
    "version": 2
   },
   "file_extension": ".py",
   "mimetype": "text/x-python",
   "name": "python",
   "nbconvert_exporter": "python",
   "pygments_lexer": "ipython2",
   "version": "2.7.6"
  }
 },
 "nbformat": 4,
 "nbformat_minor": 5
}
