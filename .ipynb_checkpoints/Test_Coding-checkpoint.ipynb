{
 "cells": [
  {
   "metadata": {},
   "cell_type": "markdown",
   "source": "## Text Coding for players",
   "id": "991f690a9e02a478"
  },
  {
   "cell_type": "code",
   "id": "initial_id",
   "metadata": {
    "collapsed": true,
    "ExecuteTime": {
     "end_time": "2025-04-18T21:34:42.816920Z",
     "start_time": "2025-04-18T21:34:40.068195Z"
    }
   },
   "source": [
    "import ee\n",
    "import geemap\n",
    "\n",
    "ee.Initialize()\n",
    "\n",
    "# Define uma área retangular na bacia do rio Uraricoera\n",
    "aoi = ee.Geometry.Rectangle([-63.30,3.65,-63.26, 3.62])  # Ajuste conforme necessário\n",
    "\n",
    "# Sentinel-2: coleção com imagens de boa resolução (10m)\n",
    "sentinel = ee.ImageCollection(\"COPERNICUS/S2_SR_HARMONIZED\") \\\n",
    "    .filterBounds(aoi) \\\n",
    "    .filterDate('2024-01-01', '2025-04-18') \\\n",
    "    .filter(ee.Filter.lt('CLOUDY_PIXEL_PERCENTAGE', 10)) \\\n",
    "    .median() \\\n",
    "    .clip(aoi)\n",
    "\n",
    "Map = geemap.Map(center=[3.637, -63.28], zoom=16)  # Centraliza no Uraricoera\n",
    "Map.addLayer(sentinel, {\n",
    "    'bands': ['B4', 'B3', 'B2'],\n",
    "    'min': 0,\n",
    "    'max': 3000\n",
    "}, 'Sentinel-2 Uraricoera')\n",
    "Map.addLayer(aoi, {}, \"Área de Interesse\")\n",
    "Map\n"
   ],
   "outputs": [
    {
     "data": {
      "text/plain": [
       "<IPython.core.display.HTML object>"
      ],
      "text/html": [
       "\n",
       "            <style>\n",
       "                .geemap-dark {\n",
       "                    --jp-widgets-color: white;\n",
       "                    --jp-widgets-label-color: white;\n",
       "                    --jp-ui-font-color1: white;\n",
       "                    --jp-layout-color2: #454545;\n",
       "                    background-color: #383838;\n",
       "                }\n",
       "\n",
       "                .geemap-dark .jupyter-button {\n",
       "                    --jp-layout-color3: #383838;\n",
       "                }\n",
       "\n",
       "                .geemap-colab {\n",
       "                    background-color: var(--colab-primary-surface-color, white);\n",
       "                }\n",
       "\n",
       "                .geemap-colab .jupyter-button {\n",
       "                    --jp-layout-color3: var(--colab-primary-surface-color, white);\n",
       "                }\n",
       "            </style>\n",
       "            "
      ]
     },
     "metadata": {},
     "output_type": "display_data"
    },
    {
     "data": {
      "text/plain": [
       "Map(center=[3.637, -63.28], controls=(WidgetControl(options=['position', 'transparent_bg'], widget=SearchDataG…"
      ],
      "application/vnd.jupyter.widget-view+json": {
       "version_major": 2,
       "version_minor": 0,
       "model_id": "09a07914c0e04c8a8810d7127f2aff98"
      }
     },
     "execution_count": 39,
     "metadata": {},
     "output_type": "execute_result"
    }
   ],
   "execution_count": 39
  },
  {
   "metadata": {
    "ExecuteTime": {
     "end_time": "2025-04-18T21:36:13.325315Z",
     "start_time": "2025-04-18T21:36:12.005868Z"
    }
   },
   "cell_type": "code",
   "source": [
    "# Defina sua área de interesse\n",
    "aoi = ee.Geometry.Rectangle([-61.5, 3.2, -60.8, 3.8])\n",
    "\n",
    "# Coleção Sentinel-2 (com máscara de nuvem)\n",
    "s2 = ee.ImageCollection(\"COPERNICUS/S2_SR\") \\\n",
    "    .filterBounds(aoi) \\\n",
    "    .filterDate('2023-06-01', '2023-08-31') \\\n",
    "    .filter(ee.Filter.lt('CLOUDY_PIXEL_PERCENTAGE', 10)) \\\n",
    "    .median() \\\n",
    "    .select(['B4', 'B3', 'B2'])  # RGB\n",
    "\n",
    "# Coleção Landsat-8 (com máscara de nuvem simples)\n",
    "l8 = ee.ImageCollection(\"LANDSAT/LC08/C02/T1_L2\") \\\n",
    "    .filterBounds(aoi) \\\n",
    "    .filterDate('2023-06-01', '2023-08-31') \\\n",
    "    .map(lambda img: img.select(['SR_B4', 'SR_B3', 'SR_B2']).multiply(0.0000275).add(-0.2)) \\\n",
    "    .median()\n",
    "\n",
    "# Normalizar bandas para compatibilizar valores\n",
    "l8 = l8.rename(['B4', 'B3', 'B2'])  # renomeando para combinar com Sentinel\n",
    "\n",
    "# Criar a composição média dos dois sensores\n",
    "composite = s2.add(l8).divide(2).clip(aoi)\n",
    "\n",
    "# Visualizar\n",
    "Map = geemap.Map(center=[3.5, -61.15], zoom=10)\n",
    "Map.addLayer(composite, {'min': 0, 'max': 0.3}, 'Composição S2 + L8')\n",
    "Map"
   ],
   "id": "3a41f39197163e78",
   "outputs": [
    {
     "data": {
      "text/plain": [
       "<IPython.core.display.HTML object>"
      ],
      "text/html": [
       "\n",
       "            <style>\n",
       "                .geemap-dark {\n",
       "                    --jp-widgets-color: white;\n",
       "                    --jp-widgets-label-color: white;\n",
       "                    --jp-ui-font-color1: white;\n",
       "                    --jp-layout-color2: #454545;\n",
       "                    background-color: #383838;\n",
       "                }\n",
       "\n",
       "                .geemap-dark .jupyter-button {\n",
       "                    --jp-layout-color3: #383838;\n",
       "                }\n",
       "\n",
       "                .geemap-colab {\n",
       "                    background-color: var(--colab-primary-surface-color, white);\n",
       "                }\n",
       "\n",
       "                .geemap-colab .jupyter-button {\n",
       "                    --jp-layout-color3: var(--colab-primary-surface-color, white);\n",
       "                }\n",
       "            </style>\n",
       "            "
      ]
     },
     "metadata": {},
     "output_type": "display_data"
    },
    {
     "data": {
      "text/plain": [
       "Map(center=[3.5, -61.15], controls=(WidgetControl(options=['position', 'transparent_bg'], widget=SearchDataGUI…"
      ],
      "application/vnd.jupyter.widget-view+json": {
       "version_major": 2,
       "version_minor": 0,
       "model_id": "ae6f4430450e483b8a8c9b9cb8eb4ee3"
      }
     },
     "execution_count": 42,
     "metadata": {},
     "output_type": "execute_result"
    }
   ],
   "execution_count": 42
  }
 ],
 "metadata": {
  "kernelspec": {
   "display_name": "Python 3",
   "language": "python",
   "name": "python3"
  },
  "language_info": {
   "codemirror_mode": {
    "name": "ipython",
    "version": 2
   },
   "file_extension": ".py",
   "mimetype": "text/x-python",
   "name": "python",
   "nbconvert_exporter": "python",
   "pygments_lexer": "ipython2",
   "version": "2.7.6"
  }
 },
 "nbformat": 4,
 "nbformat_minor": 5
}
